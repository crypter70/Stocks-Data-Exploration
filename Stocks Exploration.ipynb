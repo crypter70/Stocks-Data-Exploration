{
 "cells": [
  {
   "cell_type": "code",
   "execution_count": 1,
   "id": "6d80bc0f",
   "metadata": {},
   "outputs": [],
   "source": [
    "%matplotlib inline\n",
    "import pandas as pd\n",
    "import seaborn as sns\n",
    "import matplotlib.pyplot as plt\n",
    "from statsmodels.tsa.seasonal import seasonal_decompose\n",
    "import datetime\n",
    "\n",
    "sns.set_theme(style=\"whitegrid\")"
   ]
  },
  {
   "cell_type": "code",
   "execution_count": 2,
   "id": "4845b5a2",
   "metadata": {},
   "outputs": [
    {
     "data": {
      "text/html": [
       "<div>\n",
       "<style scoped>\n",
       "    .dataframe tbody tr th:only-of-type {\n",
       "        vertical-align: middle;\n",
       "    }\n",
       "\n",
       "    .dataframe tbody tr th {\n",
       "        vertical-align: top;\n",
       "    }\n",
       "\n",
       "    .dataframe thead th {\n",
       "        text-align: right;\n",
       "    }\n",
       "</style>\n",
       "<table border=\"1\" class=\"dataframe\">\n",
       "  <thead>\n",
       "    <tr style=\"text-align: right;\">\n",
       "      <th></th>\n",
       "      <th>Date</th>\n",
       "      <th>Open</th>\n",
       "      <th>High</th>\n",
       "      <th>Low</th>\n",
       "      <th>Close</th>\n",
       "      <th>Volume</th>\n",
       "    </tr>\n",
       "  </thead>\n",
       "  <tbody>\n",
       "    <tr>\n",
       "      <th>0</th>\n",
       "      <td>2020-11-23</td>\n",
       "      <td>6600.0</td>\n",
       "      <td>6610.0</td>\n",
       "      <td>6550.0</td>\n",
       "      <td>6600.0</td>\n",
       "      <td>75265500.0</td>\n",
       "    </tr>\n",
       "    <tr>\n",
       "      <th>1</th>\n",
       "      <td>2020-11-24</td>\n",
       "      <td>6600.0</td>\n",
       "      <td>6600.0</td>\n",
       "      <td>6545.0</td>\n",
       "      <td>6565.0</td>\n",
       "      <td>72349500.0</td>\n",
       "    </tr>\n",
       "    <tr>\n",
       "      <th>2</th>\n",
       "      <td>2020-11-25</td>\n",
       "      <td>6580.0</td>\n",
       "      <td>6585.0</td>\n",
       "      <td>6380.0</td>\n",
       "      <td>6410.0</td>\n",
       "      <td>170140500.0</td>\n",
       "    </tr>\n",
       "    <tr>\n",
       "      <th>3</th>\n",
       "      <td>2020-11-26</td>\n",
       "      <td>6350.0</td>\n",
       "      <td>6490.0</td>\n",
       "      <td>6300.0</td>\n",
       "      <td>6480.0</td>\n",
       "      <td>64339000.0</td>\n",
       "    </tr>\n",
       "    <tr>\n",
       "      <th>4</th>\n",
       "      <td>2020-11-27</td>\n",
       "      <td>6480.0</td>\n",
       "      <td>6490.0</td>\n",
       "      <td>6380.0</td>\n",
       "      <td>6385.0</td>\n",
       "      <td>87361500.0</td>\n",
       "    </tr>\n",
       "  </tbody>\n",
       "</table>\n",
       "</div>"
      ],
      "text/plain": [
       "        Date    Open    High     Low   Close       Volume\n",
       "0 2020-11-23  6600.0  6610.0  6550.0  6600.0   75265500.0\n",
       "1 2020-11-24  6600.0  6600.0  6545.0  6565.0   72349500.0\n",
       "2 2020-11-25  6580.0  6585.0  6380.0  6410.0  170140500.0\n",
       "3 2020-11-26  6350.0  6490.0  6300.0  6480.0   64339000.0\n",
       "4 2020-11-27  6480.0  6490.0  6380.0  6385.0   87361500.0"
      ]
     },
     "execution_count": 2,
     "metadata": {},
     "output_type": "execute_result"
    }
   ],
   "source": [
    "stock_list = ['bbca', 'bbni', 'bumi', 'indy', 'sido']\n",
    "stock_code = ['BBCA', 'BBNI', 'BUMI', 'INDY', 'SIDO']\n",
    "\n",
    "for a, x in zip(stock_list, stock_code):\n",
    "    globals()[a] = pd.read_csv(f\"C:\\\\Users\\\\LENOVO\\\\Stocks_exploration\\\\{x}_23_11_2022.csv\", encoding='utf-8')\n",
    "    globals()[a]['Date'] = pd.to_datetime(globals()[a]['Date'])\n",
    "#     globals()[a]['Open'] = globals()[a]['Open'].astype(int)\n",
    "    \n",
    "bbca.head()"
   ]
  },
  {
   "cell_type": "code",
   "execution_count": 3,
   "id": "810a6ac5",
   "metadata": {},
   "outputs": [
    {
     "name": "stdout",
     "output_type": "stream",
     "text": [
      "<class 'pandas.core.frame.DataFrame'>\n",
      "RangeIndex: 489 entries, 0 to 488\n",
      "Data columns (total 6 columns):\n",
      " #   Column  Non-Null Count  Dtype         \n",
      "---  ------  --------------  -----         \n",
      " 0   Date    489 non-null    datetime64[ns]\n",
      " 1   Open    489 non-null    float64       \n",
      " 2   High    489 non-null    float64       \n",
      " 3   Low     489 non-null    float64       \n",
      " 4   Close   489 non-null    float64       \n",
      " 5   Volume  489 non-null    float64       \n",
      "dtypes: datetime64[ns](1), float64(5)\n",
      "memory usage: 23.0 KB\n"
     ]
    }
   ],
   "source": [
    "bbca.info()"
   ]
  },
  {
   "cell_type": "code",
   "execution_count": 7,
   "id": "4b45b6fe",
   "metadata": {},
   "outputs": [
    {
     "ename": "NameError",
     "evalue": "name 'y' is not defined",
     "output_type": "error",
     "traceback": [
      "\u001b[1;31m---------------------------------------------------------------------------\u001b[0m",
      "\u001b[1;31mNameError\u001b[0m                                 Traceback (most recent call last)",
      "Input \u001b[1;32mIn [7]\u001b[0m, in \u001b[0;36m<cell line: 3>\u001b[1;34m()\u001b[0m\n\u001b[0;32m      1\u001b[0m fig, ((ax1, ax2), (ax3, ax4)) \u001b[38;5;241m=\u001b[39m plt\u001b[38;5;241m.\u001b[39msubplots(\u001b[38;5;241m2\u001b[39m, \u001b[38;5;241m2\u001b[39m)\n\u001b[0;32m      2\u001b[0m fig\u001b[38;5;241m.\u001b[39msuptitle(\u001b[38;5;124m'\u001b[39m\u001b[38;5;124mSharing x per column, y per row\u001b[39m\u001b[38;5;124m'\u001b[39m)\n\u001b[1;32m----> 3\u001b[0m ax1\u001b[38;5;241m.\u001b[39mplot(x, \u001b[43my\u001b[49m)\n\u001b[0;32m      4\u001b[0m ax2\u001b[38;5;241m.\u001b[39mplot(x, y\u001b[38;5;241m*\u001b[39m\u001b[38;5;241m*\u001b[39m\u001b[38;5;241m2\u001b[39m, \u001b[38;5;124m'\u001b[39m\u001b[38;5;124mtab:orange\u001b[39m\u001b[38;5;124m'\u001b[39m)\n\u001b[0;32m      5\u001b[0m ax3\u001b[38;5;241m.\u001b[39mplot(x, \u001b[38;5;241m-\u001b[39my, \u001b[38;5;124m'\u001b[39m\u001b[38;5;124mtab:green\u001b[39m\u001b[38;5;124m'\u001b[39m)\n",
      "\u001b[1;31mNameError\u001b[0m: name 'y' is not defined"
     ]
    },
    {
     "data": {
      "image/png": "[encoded data removed]",
      "text/plain": [
       "<Figure size 432x288 with 4 Axes>"
      ]
     },
     "metadata": {},
     "output_type": "display_data"
    }
   ],
   "source": [
    "fig, ((ax1, ax2), (ax3, ax4)) = plt.subplots(2, 2)\n",
    "fig.suptitle('Sharing x per column, y per row')\n",
    "ax1.plot(x, y)\n",
    "ax2.plot(x, y**2, 'tab:orange')\n",
    "ax3.plot(x, -y, 'tab:green')\n",
    "ax4.plot(x, -y**2, 'tab:red')\n",
    "\n",
    "for ax in fig.get_axes():\n",
    "    ax.label_outer()"
   ]
  },
  {
   "cell_type": "code",
   "execution_count": 6,
   "id": "cff5ebf5",
   "metadata": {},
   "outputs": [
    {
     "data": {
      "image/png": "[encoded data removed]",
      "text/plain": [
       "<Figure size 720x288 with 1 Axes>"
      ]
     },
     "metadata": {},
     "output_type": "display_data"
    }
   ],
   "source": [
    "# plt.figure(figsize=(18,4))\n",
    "# g = sns.lineplot(data=bbca,x=\"Date\", y=\"Close\")\n",
    "# g.set_xticklabe(rotation=45)\n",
    "\n",
    "plt.figure(figsize=(10,4))\n",
    "plt.plot('Date','Close',data=bbca)\n",
    "plt.grid(False)\n",
    "plt.title('BBCA Close')\n",
    "plt.xlabel('Date')\n",
    "plt.ylabel('Close Price')\n",
    "plt.xticks(rotation=45)\n",
    "\n",
    "plt.show()"
   ]
  },
  {
   "cell_type": "code",
   "execution_count": null,
   "id": "ecd4ce51",
   "metadata": {
    "scrolled": true
   },
   "outputs": [],
   "source": [
    "plt.figure(figsize=(10,4))\n",
    "plt.plot('Date','Open',data=bbca)\n",
    "plt.grid(False)\n",
    "plt.xlabel('Date')\n",
    "plt.ylabel('Close Price')\n",
    "plt.xticks(rotation=45)\n",
    "\n",
    "plt.show()"
   ]
  },
  {
   "cell_type": "code",
   "execution_count": null,
   "id": "c53fbed0",
   "metadata": {},
   "outputs": [],
   "source": [
    "plt.figure(figsize=(10,4))\n",
    "plt.plot('Date','Volume',data=bbca)\n",
    "plt.grid(False)\n",
    "plt.title('BBCA Close')\n",
    "plt.xlabel('Date')\n",
    "plt.ylabel('Close Price')\n",
    "plt.xticks(rotation=45)\n",
    "\n",
    "plt.show()"
   ]
  },
  {
   "cell_type": "code",
   "execution_count": null,
   "id": "e4feb9b6",
   "metadata": {},
   "outputs": [],
   "source": [
    "bbca = bbca.resample('M', on='Date').median()\n",
    "bbca.tail()"
   ]
  },
  {
   "cell_type": "code",
   "execution_count": null,
   "id": "bcc00ab1",
   "metadata": {},
   "outputs": [],
   "source": [
    "bbca[\"Bulan\"] = bbca.index.month\n",
    "bbca[\"Tahun\"] = bbca.index.year\n",
    "\n",
    "bbca_pivot = bbca.pivot(\"Bulan\", \"Tahun\", \"Close\")\n",
    "\n",
    "bbca_pivot.head()"
   ]
  },
  {
   "cell_type": "code",
   "execution_count": null,
   "id": "c60967fe",
   "metadata": {},
   "outputs": [],
   "source": [
    "plt.figure(figsize=(8,6))\n",
    "g = sns.heatmap(data=bbca_pivot, annot=True, fmt=\".0f\")"
   ]
  },
  {
   "cell_type": "code",
   "execution_count": null,
   "id": "c268b8b8",
   "metadata": {},
   "outputs": [],
   "source": [
    "# plt.rc('figure',figsize=(12,8)) #ukuran chart\n",
    "# plt.rc('font',size=15)\n",
    "# result = seasonal_decompose(bbca.Close,model='additive',period=60)\n",
    "# fig = result.plot()\n"
   ]
  },
  {
   "cell_type": "code",
   "execution_count": null,
   "id": "54dd1fb6",
   "metadata": {},
   "outputs": [],
   "source": [
    "# stocks_list = [BBCA, BBNI, BUMI, INDY]"
   ]
  },
  {
   "cell_type": "code",
   "execution_count": null,
   "id": "e6a172e3",
   "metadata": {},
   "outputs": [],
   "source": [
    "# plt.figure(figsize=(15, 6))\n",
    "# plt.subplots_adjust(top=1.25, bottom=1.2)\n",
    "\n",
    "# for i, company in enumerate(, 1):\n",
    "#     plt.subplot(2, 2, i)\n",
    "#     company['Open'].plot()\n",
    "#     plt.ylabel('Open')\n",
    "#     plt.xlabel(None)\n",
    "#     plt.title(f\"Open Price of {tech_list[i - 1]}\")\n",
    "    \n",
    "# plt.tight_layout()"
   ]
  },
  {
   "cell_type": "code",
   "execution_count": null,
   "id": "4b71c80c",
   "metadata": {},
   "outputs": [],
   "source": [
    "file_list=['BBCA_23_11_2022.csv','BBNI_23_11_2022.csv']\n",
    "  \n",
    "main_dataframe = pd.DataFrame(pd.read_csv(file_list[0]))\n",
    "  \n",
    "for i in range(1,len(file_list)):\n",
    "    data = pd.read_csv(file_list[i])\n",
    "    df = pd.DataFrame(data)\n",
    "    main_dataframe = pd.concat([main_dataframe,df],axis=1)\n",
    "# print(main_dataframe)\n",
    "\n",
    "df.head()"
   ]
  },
  {
   "cell_type": "code",
   "execution_count": null,
   "id": "d82c9d51",
   "metadata": {},
   "outputs": [],
   "source": [
    "import pandas as pd\n",
    "import numpy as np\n",
    "\n",
    "import matplotlib.pyplot as plt\n",
    "import seaborn as sns\n",
    "sns.set_style('whitegrid')\n",
    "plt.style.use(\"fivethirtyeight\")\n",
    "%matplotlib inline\n",
    "\n",
    "# For reading stock data from yahoo\n",
    "from pandas_datareader.data import DataReader\n",
    "import yfinance as yf\n",
    "\n",
    "# For time stamps\n",
    "from datetime import datetime"
   ]
  },
  {
   "cell_type": "code",
   "execution_count": null,
   "id": "5d65436f",
   "metadata": {},
   "outputs": [],
   "source": [
    "# The tech stocks we'll use for this analysis\n",
    "tech_list = ['AAPL', 'GOOG', 'MSFT', 'AMZN']\n",
    "\n",
    "# Set up End and Start times for data grab\n",
    "tech_list = ['AAPL', 'GOOG', 'MSFT', 'AMZN']\n",
    "\n",
    "end = datetime.now()\n",
    "start = datetime(end.year - 1, end.month, end.day)\n",
    "\n",
    "for stock in tech_list:\n",
    "    globals()[stock] = yf.download(stock, start, end)"
   ]
  },
  {
   "cell_type": "code",
   "execution_count": null,
   "id": "f59e7363",
   "metadata": {
    "scrolled": true
   },
   "outputs": [],
   "source": [
    "company_list = [AAPL, GOOG, MSFT, AMZN]\n",
    "company_name = [\"APPLE\", \"GOOGLE\", \"MICROSOFT\", \"AMAZON\"]\n",
    "\n",
    "for company, com_name in zip(company_list, company_name):\n",
    "    company[\"company_name\"] = com_name\n",
    "    \n",
    "df = pd.concat(company_list, axis=0)\n",
    "df.tail(10)"
   ]
  },
  {
   "cell_type": "code",
   "execution_count": null,
   "id": "0dd56771",
   "metadata": {},
   "outputs": [],
   "source": [
    "company_list"
   ]
  },
  {
   "cell_type": "code",
   "execution_count": null,
   "id": "d92e1dcd",
   "metadata": {},
   "outputs": [],
   "source": [
    "plt.figure(figsize=(15, 6))\n",
    "plt.subplots_adjust(top=1.25, bottom=1.2)\n",
    "\n",
    "for i, company in enumerate(company_list, 1):\n",
    "    plt.subplot(2, 2, i)\n",
    "    company['Adj Close'].plot()\n",
    "    plt.ylabel('Adj Close')\n",
    "    plt.xlabel(None)\n",
    "    plt.title(f\"Closing Price of {tech_list[i - 1]}\")\n",
    "    \n",
    "plt.tight_layout()"
   ]
  }
 ],
 "metadata": {
  "kernelspec": {
   "display_name": "Python 3 (ipykernel)",
   "language": "python",
   "name": "python3"
  },
  "language_info": {
   "codemirror_mode": {
    "name": "ipython",
    "version": 3
   },
   "file_extension": ".py",
   "mimetype": "text/x-python",
   "name": "python",
   "nbconvert_exporter": "python",
   "pygments_lexer": "ipython3",
   "version": "3.9.12"
  }
 },
 "nbformat": 4,
 "nbformat_minor": 5
}
