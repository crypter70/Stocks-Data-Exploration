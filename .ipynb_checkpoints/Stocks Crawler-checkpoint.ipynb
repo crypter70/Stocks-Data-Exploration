{
 "cells": [
  {
   "cell_type": "markdown",
   "id": "03bf4a05",
   "metadata": {},
   "source": [
    "# Import Library"
   ]
  },
  {
   "cell_type": "code",
   "execution_count": 1,
   "id": "d7b7d536",
   "metadata": {},
   "outputs": [],
   "source": [
    "import yfinance as yf\n",
    "import pandas as pd\n",
    "from datetime import datetime as dt\n",
    "import datetime"
   ]
  },
  {
   "cell_type": "markdown",
   "id": "e64d5964",
   "metadata": {},
   "source": [
    "# Crawling"
   ]
  },
  {
   "cell_type": "code",
   "execution_count": 2,
   "id": "a4373914",
   "metadata": {},
   "outputs": [
    {
     "name": "stdout",
     "output_type": "stream",
     "text": [
      "[*********************100%***********************]  1 of 1 completed\n",
      "[*********************100%***********************]  1 of 1 completed\n",
      "[*********************100%***********************]  1 of 1 completed\n",
      "[*********************100%***********************]  1 of 1 completed\n",
      "[*********************100%***********************]  1 of 1 completed\n"
     ]
    }
   ],
   "source": [
    "# get fundamental data\n",
    "# unvr = yf.Ticker('UNVR.JK')\n",
    "# unvr.info\n",
    "\n",
    "now = datetime.datetime.today().strftime('%d_%m_%Y')\n",
    "end = dt.now()\n",
    "\n",
    "# start = dt(end.year - 2, end.month, end.day)\n",
    "start = '2020-01-01'\n",
    "\n",
    "stock_code = ['BBCA.JK', 'BBNI.JK', 'BUMI.JK', 'INDY.JK', 'SIDO.JK']\n",
    "    \n",
    "for stock in stock_code:\n",
    "    data = yf.download(stock, start=start, end=end)\n",
    "    data = data[['Open', 'High', 'Low', 'Close', 'Volume']]\n",
    "    title = stock.replace('JK', '').replace('.', '')\n",
    "    df = pd.DataFrame(data)\n",
    "    df.to_csv(f'data\\\\{title}_{now}.csv')"
   ]
  }
 ],
 "metadata": {
  "kernelspec": {
   "display_name": "Python 3 (ipykernel)",
   "language": "python",
   "name": "python3"
  },
  "language_info": {
   "codemirror_mode": {
    "name": "ipython",
    "version": 3
   },
   "file_extension": ".py",
   "mimetype": "text/x-python",
   "name": "python",
   "nbconvert_exporter": "python",
   "pygments_lexer": "ipython3",
   "version": "3.9.12"
  }
 },
 "nbformat": 4,
 "nbformat_minor": 5
}
