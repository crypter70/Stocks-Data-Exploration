{
 "cells": [
  {
   "cell_type": "code",
   "execution_count": 36,
   "id": "d7b7d536",
   "metadata": {},
   "outputs": [],
   "source": [
    "import yfinance as yf\n",
    "import pandas as pd\n",
    "import datetime\n",
    "\n",
    "now = datetime.datetime.today().strftime('%d_%m_%Y')"
   ]
  },
  {
   "cell_type": "code",
   "execution_count": null,
   "id": "25bb6aa2",
   "metadata": {},
   "outputs": [],
   "source": [
    "# get fundamental data\n",
    "# unvr = yf.Ticker('UNVR.JK')\n",
    "# unvr.info "
   ]
  },
  {
   "cell_type": "code",
   "execution_count": 52,
   "id": "a4373914",
   "metadata": {},
   "outputs": [
    {
     "name": "stdout",
     "output_type": "stream",
     "text": [
      "[*********************100%***********************]  1 of 1 completed\n"
     ]
    }
   ],
   "source": [
    "name = 'BUMI'\n",
    "data = yf.download(['BUMI.JK'], start='2020-11-22', end='2022-11-22')\n",
    "data = data[['Open', 'High', 'Low', 'Close', 'Volume']]\n",
    "df = pd.DataFrame(data)\n",
    "\n",
    "# df.head()\n",
    "df.to_csv(f'{name}_{now}.csv')"
   ]
  }
 ],
 "metadata": {
  "kernelspec": {
   "display_name": "Python 3 (ipykernel)",
   "language": "python",
   "name": "python3"
  },
  "language_info": {
   "codemirror_mode": {
    "name": "ipython",
    "version": 3
   },
   "file_extension": ".py",
   "mimetype": "text/x-python",
   "name": "python",
   "nbconvert_exporter": "python",
   "pygments_lexer": "ipython3",
   "version": "3.9.12"
  }
 },
 "nbformat": 4,
 "nbformat_minor": 5
}
